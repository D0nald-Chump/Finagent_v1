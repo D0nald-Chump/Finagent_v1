{
 "cells": [
  {
   "cell_type": "markdown",
   "id": "1b4c38be",
   "metadata": {},
   "source": [
    "# Finagent Main Run\n",
    "\n",
    "此 notebook 由 `main.py` 自动生成，复现一次完整运行。"
   ]
  },
  {
   "cell_type": "code",
   "execution_count": null,
   "id": "863f0792",
   "metadata": {},
   "outputs": [],
   "source": [
    "from finagent.graph import build_parent_graph\n",
    "from finagent.state import State\n",
    "from finagent.costing import COST_LOG, summarize_cost\n",
    "\n",
    "parent = build_parent_graph()\n",
    "app = parent.compile()\n",
    "initial_state: State = {}\n",
    "final_state = app.invoke(initial_state)\n",
    "\n",
    "print(\"\n",
    "=== Final Report (markdown) ===\n",
    "\")\n",
    "print(final_state.get(\"final_report\",\"<no report>\"))\n",
    "\n",
    "print(\"\n",
    "=== Cost Items ===\")\n",
    "for item in COST_LOG:\n",
    "    print(item[\"node\"], item[\"role\"], \"→\",\n",
    "          f\"in={item['input_tokens']}, out={item['output_tokens']},\",\n",
    "          f\"cost=${item['total_cost']:.4f}\")\n",
    "\n",
    "print(\"\n",
    "=== Total Cost Summary ===\")\n",
    "print(summarize_cost())"
   ]
  }
 ],
 "metadata": {},
 "nbformat": 4,
 "nbformat_minor": 5
}