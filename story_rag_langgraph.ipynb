{
 "cells": [
  {
   "cell_type": "markdown",
   "id": "78614610",
   "metadata": {},
   "source": [
    "\n",
    "# 🧩 Two-Node RAG with LangGraph (Story Writer over Character Sheets)\n",
    "\n",
    "This notebook builds a **minimal but solid** Retrieval-Augmented Generation (RAG) system in **two nodes** using **LangGraph** and **OpenAI**:\n",
    "1. `retrieve_character_facts` — retrieve character & world facts for the requested story\n",
    "2. `write_story_with_evidence` — write a short story **grounded** in retrieved facts, with inline evidence markers\n",
    "\n",
    "> External corpus: character sheets (personality, likes, taboos, etc.) + shared world notes.\n",
    ">\n",
    "> You can run this locally after filling your OpenAI key. The notebook includes optional `pip install` cells.\n"
   ]
  },
  {
   "cell_type": "markdown",
   "id": "07778d65",
   "metadata": {},
   "source": [
    "\n",
    "## 0. Setup\n",
    "- Fill your OpenAI API key in `.env` or environment.\n",
    "- (Optional) Install dependencies if you don't have them.\n"
   ]
  },
  {
   "cell_type": "code",
   "execution_count": 1,
   "id": "fd6bc3b8",
   "metadata": {},
   "outputs": [],
   "source": [
    "\n",
    "# If needed, uncomment to install locally:\n",
    "# !pip install -U langgraph langchain pydantic python-dotenv\n",
    "# NOTE: You can also use FAISS/Chroma, but here we do a tiny in-memory index for clarity.\n"
   ]
  },
  {
   "cell_type": "code",
   "execution_count": 2,
   "id": "42922533",
   "metadata": {},
   "outputs": [
    {
     "name": "stdout",
     "output_type": "stream",
     "text": [
      "Using chat model: gpt-5-mini\n",
      "Using embed model: text-embedding-3-small\n"
     ]
    }
   ],
   "source": [
    "\n",
    "from dotenv import load_dotenv\n",
    "from openai import OpenAI\n",
    "import os, json, math, numpy as np\n",
    "from dataclasses import dataclass, asdict\n",
    "from typing import List, Dict, Any, Optional, TypedDict\n",
    "\n",
    "load_dotenv()\n",
    "client = OpenAI()\n",
    "\n",
    "_USE_OPENAI = True  # flip to False if you want to stub responses for offline tests\n",
    "EMBED_MODEL = os.getenv(\"EMBED_MODEL\", \"text-embedding-3-small\")\n",
    "CHAT_MODEL  = os.getenv(\"CHAT_MODEL\", \"gpt-5-mini\")\n",
    "SEED = 7\n",
    "np.random.seed(SEED)\n",
    "\n",
    "print(\"Using chat model:\", CHAT_MODEL)\n",
    "print(\"Using embed model:\", EMBED_MODEL)\n"
   ]
  },
  {
   "cell_type": "markdown",
   "id": "d895011c",
   "metadata": {},
   "source": [
    "\n",
    "## 1. Create a tiny corpus (character sheets + shared world)\n",
    "We keep documents small and structured; we will store them with metadata and embed their *content*.\n"
   ]
  },
  {
   "cell_type": "code",
   "execution_count": 3,
   "id": "2b181cda",
   "metadata": {},
   "outputs": [
    {
     "data": {
      "text/plain": [
       "(3, ['Alice.traits.md', 'Bob.traits.md', 'Setting.shared.md'])"
      ]
     },
     "execution_count": 3,
     "metadata": {},
     "output_type": "execute_result"
    }
   ],
   "source": [
    "\n",
    "@dataclass\n",
    "class Doc:\n",
    "    doc_id: str\n",
    "    content: str\n",
    "    metadata: Dict[str, Any]\n",
    "\n",
    "corpus: List[Doc] = [\n",
    "    Doc(\n",
    "        doc_id=\"Alice.traits.md\",\n",
    "        content=(\n",
    "            \"name: Alice\\n\"\n",
    "            \"traits: 内向、强迫症、记日记\\n\"\n",
    "            \"likes_food: 抹茶、寿司\\n\"\n",
    "            \"dislikes_food: 榴莲\\n\"\n",
    "            \"hobbies: 观星、拼乐高\\n\"\n",
    "            \"speech: 轻声、短句、常用“嗯…好”\\n\"\n",
    "            \"background: 城市图书管理员\\n\"\n",
    "            \"taboos: 讨厌别人未经同意触碰她的笔记本\\n\"\n",
    "        ),\n",
    "        metadata={\"type\": \"character\", \"name\": \"Alice\", \"updated_at\": \"2025-06-01\"},\n",
    "    ),\n",
    "    Doc(\n",
    "        doc_id=\"Bob.traits.md\",\n",
    "        content=(\n",
    "            \"name: Bob\\n\"\n",
    "            \"traits: 外向、冲动、讲冷笑话\\n\"\n",
    "            \"likes_food: 烤肉、黑咖啡\\n\"\n",
    "            \"hobbies: 跑酷、修自行车\\n\"\n",
    "            \"speech: 夸张比喻、句尾常说“懂？”\\n\"\n",
    "            \"background: 外卖骑手\\n\"\n",
    "            \"taboos: 被人质疑路线感\\n\"\n",
    "        ),\n",
    "        metadata={\"type\": \"character\", \"name\": \"Bob\", \"updated_at\": \"2025-06-10\"},\n",
    "    ),\n",
    "    Doc(\n",
    "        doc_id=\"Setting.shared.md\",\n",
    "        content=(\n",
    "            \"city: 雨水充沛的港口城\\n\"\n",
    "            \"common_places: 旧书店、码头、陡坡石阶\\n\"\n",
    "            \"cultural_notes: 雨夜猫会聚到码头最旧的灯塔边\\n\"\n",
    "        ),\n",
    "        metadata={\"type\": \"setting\", \"name\": \"SharedWorld\", \"updated_at\": \"2025-05-20\"},\n",
    "    ),\n",
    "]\n",
    "len(corpus), [d.doc_id for d in corpus]\n"
   ]
  },
  {
   "cell_type": "code",
   "execution_count": 25,
   "id": "39d92265-40c8-4f1f-88b1-981de0335bd1",
   "metadata": {},
   "outputs": [
    {
     "data": {
      "text/plain": [
       "'name: Alice\\ntraits: 内向、强迫症、记日记\\nlikes_food: 抹茶、寿司\\ndislikes_food: 榴莲\\nhobbies: 观星、拼乐高\\nspeech: 轻声、短句、常用“嗯…好”\\nbackground: 城市图书管理员\\ntaboos: 讨厌别人未经同意触碰她的笔记本\\n'"
      ]
     },
     "execution_count": 25,
     "metadata": {},
     "output_type": "execute_result"
    }
   ],
   "source": [
    "corpus[0].content"
   ]
  },
  {
   "cell_type": "markdown",
   "id": "24e4c24b",
   "metadata": {},
   "source": [
    "\n",
    "## 2. Build a minimal in-memory vector index\n",
    "We embed each document with OpenAI Embeddings and store vectors in memory. Retrieval is cosine similarity.\n"
   ]
  },
  {
   "cell_type": "code",
   "execution_count": 4,
   "id": "af1e71bc",
   "metadata": {},
   "outputs": [
    {
     "name": "stdout",
     "output_type": "stream",
     "text": [
      "Index built. Shape: (3, 1536)\n"
     ]
    }
   ],
   "source": [
    "\n",
    "def embed_texts(texts: List[str]) -> np.ndarray:\n",
    "    if not _USE_OPENAI:\n",
    "        # offline stub\n",
    "        return np.random.normal(0, 1, (len(texts), 1536)).astype(\"float32\")\n",
    "    resp = client.embeddings.create(model=EMBED_MODEL, input=texts)\n",
    "    vecs = [np.array(d.embedding, dtype=\"float32\") for d in resp.data]\n",
    "    return np.vstack(vecs)\n",
    "\n",
    "doc_vectors = embed_texts([d.content for d in corpus])\n",
    "doc_norms = np.linalg.norm(doc_vectors, axis=1, keepdims=True) + 1e-8\n",
    "doc_vectors = doc_vectors / doc_norms  # normalize\n",
    "print(\"Index built. Shape:\", doc_vectors.shape)\n"
   ]
  },
  {
   "cell_type": "code",
   "execution_count": 5,
   "id": "614d34e1",
   "metadata": {},
   "outputs": [],
   "source": [
    "\n",
    "def cosine_topk(query: str, k: int = 6, filters: Optional[Dict[str, Any]] = None) -> List[Doc]:\n",
    "    # Apply simple metadata filter before scoring\n",
    "    candidates = corpus\n",
    "    if filters:\n",
    "        def _ok(doc: Doc):\n",
    "            for key, val in filters.items():\n",
    "                if isinstance(val, dict) and \"$in\" in val:\n",
    "                    if doc.metadata.get(key) not in val[\"$in\"]:\n",
    "                        return False\n",
    "                else:\n",
    "                    if doc.metadata.get(key) != val:\n",
    "                        return False\n",
    "            return True\n",
    "        candidates = [d for d in corpus if _ok(d)]\n",
    "    # Compute embedding for query\n",
    "    qv = embed_texts([query])[0]\n",
    "    qv = qv / (np.linalg.norm(qv) + 1e-8)\n",
    "    # Score only candidate subset\n",
    "    idxs = [corpus.index(d) for d in candidates]\n",
    "    mat = doc_vectors[idxs]\n",
    "    scores = (mat @ qv).tolist()\n",
    "    ranked = sorted(zip(scores, candidates), key=lambda x: x[0], reverse=True)\n",
    "    return [d for _, d in ranked[:k]]\n"
   ]
  },
  {
   "cell_type": "markdown",
   "id": "57b02547",
   "metadata": {},
   "source": [
    "\n",
    "## 3. LangGraph: define state and two nodes\n",
    "We split RAG into **retrieve → generate**.\n"
   ]
  },
  {
   "cell_type": "code",
   "execution_count": 6,
   "id": "82883815",
   "metadata": {},
   "outputs": [],
   "source": [
    "\n",
    "# If not installed, pip install in the first cell\n",
    "from typing import TypedDict\n",
    "from langgraph.graph import StateGraph, START, END\n"
   ]
  },
  {
   "cell_type": "code",
   "execution_count": 7,
   "id": "9c862194",
   "metadata": {},
   "outputs": [],
   "source": [
    "\n",
    "class StoryRAGState(TypedDict):\n",
    "    theme: str\n",
    "    characters: List[str]\n",
    "    style: str\n",
    "    length: str\n",
    "    retrieved_docs: List[Dict[str, Any]]\n",
    "    outline: str\n",
    "    story: str\n"
   ]
  },
  {
   "cell_type": "markdown",
   "id": "eb2bcaea",
   "metadata": {},
   "source": [
    "\n",
    "### Node 1 — retrieve_character_facts\n",
    "- Prioritize character docs whose `name` in requested characters\n",
    "- Also include shared `setting` doc\n",
    "- Merge & (optionally) rerank by the same query\n"
   ]
  },
  {
   "cell_type": "code",
   "execution_count": 8,
   "id": "9fc93d39",
   "metadata": {},
   "outputs": [],
   "source": [
    "\n",
    "def retrieve_character_facts(state: StoryRAGState) -> StoryRAGState:\n",
    "    theme = state[\"theme\"]\n",
    "    characters = state[\"characters\"]\n",
    "    query = f\"{theme} :: \" + \", \".join(characters)\n",
    "\n",
    "    # 1) character-focused filter\n",
    "    char_docs = []\n",
    "    if characters:\n",
    "        char_docs = cosine_topk(query, k=6, filters={\"type\": \"character\", \"name\": {\"$in\": characters}})\n",
    "    # 2) shared setting\n",
    "    setting_docs = cosine_topk(query, k=3, filters={\"type\": \"setting\"})\n",
    "\n",
    "    # 3) simple merge + distinct by doc_id\n",
    "    merged = {}\n",
    "    for d in char_docs + setting_docs:\n",
    "        merged[d.doc_id] = d\n",
    "    docs = list(merged.values())\n",
    "\n",
    "    # 4) package into JSON-safe dicts\n",
    "    out_docs = [{\n",
    "        \"doc_id\": d.doc_id,\n",
    "        \"content\": d.content,\n",
    "        \"metadata\": d.metadata,\n",
    "    } for d in docs]\n",
    "\n",
    "    new_state = dict(state)\n",
    "    new_state[\"retrieved_docs\"] = out_docs\n",
    "    return new_state\n"
   ]
  },
  {
   "cell_type": "markdown",
   "id": "42105f54",
   "metadata": {},
   "source": [
    "\n",
    "### Node 2 — write_story_with_evidence\n",
    "We convert retrieved docs into a compact bullet summary and instruct the model to:\n",
    "- produce a brief outline (conflict → development → resolution) that references facts,\n",
    "- then write a short story using **inline evidence markers** like `【Alice: likes 抹茶】`.\n"
   ]
  },
  {
   "cell_type": "code",
   "execution_count": 9,
   "id": "98030da2",
   "metadata": {},
   "outputs": [],
   "source": [
    "\n",
    "def summarize_docs_for_prompt(docs: List[Dict[str, Any]]) -> str:\n",
    "    bullets = []\n",
    "    for d in docs:\n",
    "        meta = d.get(\"metadata\", {})\n",
    "        src = d.get(\"doc_id\")\n",
    "        name = meta.get(\"name\", meta.get(\"type\", \"doc\"))\n",
    "        bullets.append(f\"- [{src}] name={name}, type={meta.get('type')}, updated_at={meta.get('updated_at')}\")\n",
    "        # show only first ~6 key lines to keep prompt short\n",
    "        lines = [ln.strip() for ln in d[\"content\"].splitlines() if ln.strip()]\n",
    "        for ln in lines[:6]:\n",
    "            bullets.append(f\"  · {ln}\")\n",
    "    return \"\\n\".join(bullets)\n",
    "\n",
    "SYSTEM_PROMPT = (\n",
    "    \"你是一个严格遵循证据的人设一致性写作助手。\"\n",
    "    \"基于提供的人物与世界设定来写短篇。如果某项设定缺失，允许合理推断，但用括号标注‘推断’。\"\n",
    "    \"在正文中，当你使用到关键设定时，用行内标注如【Alice: likes 抹茶】。\"\n",
    "    \"禁止与证据冲突；保持角色口吻与禁忌一致。\"\n",
    ")\n",
    "\n",
    "def write_story_with_evidence(state: StoryRAGState) -> StoryRAGState:\n",
    "    theme = state[\"theme\"]\n",
    "    characters = state[\"characters\"]\n",
    "    style = state.get(\"style\", \"叙事自然、细腻治愈，略带幽默\")\n",
    "    length = state.get(\"length\", \"short\")\n",
    "\n",
    "    docs = state.get(\"retrieved_docs\", [])\n",
    "    evidence = summarize_docs_for_prompt(docs)\n",
    "\n",
    "    user_prompt = f'''\n",
    "任务：根据人物设定与共享世界，写一个短篇故事。\n",
    "主题：{theme}\n",
    "角色：{\", \".join(characters)}\n",
    "风格：{style}\n",
    "长度：{length}\n",
    "\n",
    "证据（请严格遵循；缺失可(推断)）：\n",
    "{evidence}\n",
    "\n",
    "输出要求：\n",
    "1) 先给三段式提纲（开端/推进/收束），提纲里明确点出会用到的设定（用✅标注）。\n",
    "2) 再写正文；每当使用到关键设定时，加上行内证据标注，如【Alice: likes 抹茶】。\n",
    "3) 若某项为推断，请在该处标注(推断)。\n",
    "    '''.strip()\n",
    "\n",
    "    if not _USE_OPENAI:\n",
    "        outline = \"开端/推进/收束（stub）\"\n",
    "        story = \"这是一个离线 stub 故事。\"\n",
    "    else:\n",
    "        messages = [\n",
    "            {\"role\": \"system\", \"content\": SYSTEM_PROMPT},\n",
    "            {\"role\": \"user\", \"content\": user_prompt},\n",
    "        ]\n",
    "        resp = client.chat.completions.create(\n",
    "            model=CHAT_MODEL,\n",
    "            messages=messages,\n",
    "            temperature=1,\n",
    "        )\n",
    "        story_text = resp.choices[0].message.content\n",
    "        # Small heuristic: split outline and story if user wants it split\n",
    "        # Here we keep whole text but also set outline crudely as first block if detectable.\n",
    "        outline = \"\"\n",
    "        story  = story_text\n",
    "        # naive split\n",
    "        parts = story_text.split(\"\\n\\n\", 1)\n",
    "        if len(parts) == 2 and (\"开端\" in parts[0] or \"提纲\" in parts[0]):\n",
    "            outline, story = parts[0], parts[1]\n",
    "\n",
    "    new_state = dict(state)\n",
    "    new_state[\"outline\"] = outline\n",
    "    new_state[\"story\"] = story\n",
    "    return new_state\n"
   ]
  },
  {
   "cell_type": "markdown",
   "id": "51ff24b0",
   "metadata": {},
   "source": [
    "\n",
    "## 4. Build the LangGraph\n",
    "Start → retrieve_character_facts → write_story_with_evidence → End\n"
   ]
  },
  {
   "cell_type": "code",
   "execution_count": 10,
   "id": "3b5a3b2f",
   "metadata": {},
   "outputs": [
    {
     "name": "stdout",
     "output_type": "stream",
     "text": [
      "Graph compiled.\n"
     ]
    }
   ],
   "source": [
    "\n",
    "graph = StateGraph(StoryRAGState)\n",
    "graph.add_node(\"retrieve_character_facts\", retrieve_character_facts)\n",
    "graph.add_node(\"write_story_with_evidence\", write_story_with_evidence)\n",
    "graph.add_edge(START, \"retrieve_character_facts\")\n",
    "graph.add_edge(\"retrieve_character_facts\", \"write_story_with_evidence\")\n",
    "graph.add_edge(\"write_story_with_evidence\", END)\n",
    "app = graph.compile()\n",
    "print(\"Graph compiled.\")\n"
   ]
  },
  {
   "cell_type": "code",
   "execution_count": 13,
   "id": "ccf92c32-8b38-4cd2-9be3-34cb2b9487bf",
   "metadata": {},
   "outputs": [
    {
     "data": {
      "image/png": "[encoded data removed]",
      "text/plain": [
       "<IPython.core.display.Image object>"
      ]
     },
     "metadata": {},
     "output_type": "display_data"
    }
   ],
   "source": [
    "from IPython.display import Image, display\n",
    "\n",
    "try:\n",
    "    display(Image(app.get_graph(xray=True).draw_mermaid_png()))\n",
    "except Exception as e:\n",
    "    print(\"Mermaid 生成失败（可忽略）：\", e)"
   ]
  },
  {
   "cell_type": "markdown",
   "id": "a218fef9",
   "metadata": {},
   "source": [
    "\n",
    "## 5. Try it\n",
    "Change `theme`, `characters`, `style`, `length` and run.\n"
   ]
  },
  {
   "cell_type": "code",
   "execution_count": 11,
   "id": "fa692dec",
   "metadata": {},
   "outputs": [
    {
     "name": "stdout",
     "output_type": "stream",
     "text": [
      "==== 提纲 ====\n",
      "提纲\n",
      "1) 开端：夜雨中，爱丽丝发现猫不见，翻看日记后决定去码头找猫。会用到的设定：✅Alice: traits（内向、强迫症、记日记）✅Alice: likes_food（抹茶）✅SharedWorld: cultural_notes（雨夜猫会聚到码头最旧的灯塔边）✅SharedWorld: city（雨水充沛的港口城）\n",
      "2) 推进：在陡坡石阶上遇见鲍勃——外卖骑手，爱跑酷，会讲冷笑话，帮忙一起找猫。会用到的设定：✅Bob: background（外卖骑手）✅Bob: traits（外向、冲动、讲冷笑话）✅Bob: hobbies（跑酷、修自行车）✅SharedWorld: common_places（陡坡石阶、码头）\n",
      "3) 收束：在旧灯塔旁找到猫，错位的勇气显现：爱丽丝轻声呼唤，鲍勃笨拙却真诚的鼓励，两人交换食物与温暖。会用到的设定：✅Alice: speech（轻声、常用“嗯…好”）✅Bob: speech（夸张比喻、句尾常说“懂？”）✅Alice/Bob: likes_food（抹茶、黑咖啡、烤肉）✅SharedWorld: cultural_notes（灯塔猫聚集）\n",
      "\n",
      "==== 正文 ====\n",
      "短篇故事\n",
      "雨一直下着，像针线把港口城的夜缝成小格子【SharedWorld: city: 雨水充沛的港口城】。爱丽丝在灯下翻日记，笔迹被雨的节奏压得整齐，这是她的习惯——记下来，按列对齐，安心一点【Alice: traits: 内向、强迫症、记日记】。她确定门锁在原位，碗筷也按顺序放好，最后才发现猫不在窗台上。心口像被小石子敲了两下，决定出去找它。她把随身的小杯里剩下的抹茶抿了一口，温度在掌心里镇定了她一点【Alice: likes_food: 抹茶】（推断：保温杯带在身边以备夜里暖手）（推断）。\n",
      "\n",
      "雨的味道里有盐，码头是第一时间浮现在她脑海的地方——港口的老话里，雨夜猫会聚到最旧的灯塔边【SharedWorld: cultural_notes: 雨夜猫会聚到码头最旧的灯塔边】。她沿着陡坡石阶下去，石阶湿滑，她的脚步有节奏，像是在完成一项检查清单【SharedWorld: common_places: 陡坡石阶】。有人从上面跃下，落地的姿势有一点戏剧性：是鲍勃，黑色外套还挂着外卖箱的轮廓，他脸上挂着可笑的笑容，像是刚从喜剧片里走出来的跑腿男【Bob: background: 外卖骑手】【Bob: traits: 外向、冲动、讲冷笑话】【Bob: hobbies: 跑酷】。\n",
      "\n",
      "“你这是去追猫，还是去抢晚餐的主角？”鲍勃夸张地比了个动作，声音在雨里有点大，末尾照例加了句“懂？”【Bob: speech: 夸张比喻、句尾常说“懂？”】。爱丽丝低声道：“嗯…好。”她的声音像把雨线轻轻拨开一点【Alice: speech: 轻声、短句、常用“嗯…好”】。鲍勃看见她的手心里还残着茶香，笑着从外卖箱里掏出一小块烤肉味的零食作为交换——他总是随身带着能量食物，习惯性的安慰方式【Bob: likes_food: 烤肉】（推断：他原本是要自己吃的热腾食物，但雨夜不方便）。\n",
      "\n",
      "他们沿着湿漉的码头走着，鲍勃不时用行走的节奏做出小跑酷动作，跨过一个并不高的栏杆，像是在跟夜色比个手势【Bob: hobbies: 跑酷】。他讲了一个冷笑话来填补雨声：“猫要是在灯塔失业了，会去找哪种工作？——做灯泡点灯吧，毕竟它们喜欢发光发热，懂？”他自己先笑，然后看着爱丽丝是否也会笑【Bob: traits: 讲冷笑话】【Bob: speech: 夸张比喻、句尾常说“懂？”】。爱丽丝嘴角动了动，像是承认了一点点温暖，“嗯…好。”她的手指不自觉地抚摸着空着的衣袖，像抚摸猫的背（推断：她在想象猫安静的呼吸声）（推断）【Alice: speech: 轻声、短句、常用“嗯…好”】。\n",
      "\n",
      "灯塔在雨幕里像一只沉默的眼睛，旧石的轮廓有时间的软边。靠近时，几只猫影在灯光边缘懒洋洋地挤成团——正如老一辈人说的那样，雨夜它们果然会来【SharedWorld: cultural_notes: 雨夜猫会聚到码头最旧的灯塔边】【SharedWorld: common_places: 码头】。爱丽丝低声呼唤猫的名字，她的话很短，像放入夜里的小船：“小橘？”（推断：猫名为“小橘”，为便于叙事所设定）（推断）。声音穿过湿冷的空气，终于有一只毛色带着盐灰的猫抬头，绕过同伴，走到她脚边，蹭了蹭她的小腿。\n",
      "\n",
      "鲍勃在一旁装出英雄的样子，弯下腰去想要抱猫，动作却被紧张绷得笨拙，猫却更像是在选人，它选择了爱丽丝，绕到了她手心里，怀里是温的。爱丽丝蹲下，手指不再颤抖，按顺序理了理猫的项圈（她总要把事情按顺序做完，才能相信世界还顺着她走）【Alice: traits: 内向、强迫症】。鲍勃看着那一刻，像被自己平时的浮夸掏空了，突然很认真地说：“你今天很勇敢，像灯塔也会怕黑，但还是点着灯，懂？”他说完又笑了一下，语尾还是那句“懂？”【Bob: speech: 句尾常说“懂？”】【Bob: traits: 外向、冲动】。\n",
      "\n",
      "爱丽丝笑得很轻，像镇静剂在心里起了效：“嗯…好。”她把猫抱紧一点，像抱住自己也像抱住世界的小小秩序。鲍勃递给她一杯从外卖箱里掏出的热黑咖啡，苦味在冷雨里是一种敢于直面的味道【Bob: likes_food: 黑咖啡】（推断：鲍勃常备咖啡作为夜间提神）（推断）。她摇头表示不喝，目光却柔软地看着他，“嗯…好，谢谢。”【Alice: speech: 轻声、短句、常用“嗯…好”】【Alice: likes_food: 抹茶】。\n",
      "\n",
      "他们在灯塔下互相把湿衣角按平，像两个人共同完成一件小小的修补活。鲍勃帮忙把猫的项圈扣好，顺手叠了叠湿掉的雨衣边，他笨拙但有力的动作像修自行车时一样实在【Bob: hobbies: 修自行车】。爱丽丝在心里把这一页写进日记——不是因为它完美，而是因为她想留住自己被勇气惊讶到的那一刻【Alice: traits: 记日记】。\n",
      "\n",
      "雨还是下着，但人和猫和灯塔之间的距离被悄悄拉近了。两个人一个外向一个内向，像错位的齿轮，一拍一拍地转到能互相吻合的角度。鲍勃又说了一句冷笑话，爱丽丝轻轻笑出声，像是夜里最小的一盏灯。猫在她怀里打呼噜，像确认了这世界仍有能被信任的小事。雨继续缝着夜色，但他们都不急着躲回自己的格子里——那种从别处借来的勇气，已经足够让他们在今天晚上，悄悄地把某些东西放好，关上门，安心睡去。\n"
     ]
    }
   ],
   "source": [
    "\n",
    "initial_state: StoryRAGState = {\n",
    "    \"theme\": \"雨夜寻猫与错位的勇气\",\n",
    "    \"characters\": [\"Alice\", \"Bob\"],\n",
    "    \"style\": \"治愈系，细腻叙事，一点点幽默\",\n",
    "    \"length\": \"short\",\n",
    "    \"retrieved_docs\": [],\n",
    "    \"outline\": \"\",\n",
    "    \"story\": \"\",\n",
    "}\n",
    "final_state = app.invoke(initial_state)\n",
    "print(\"==== 提纲 ====\")\n",
    "print(final_state.get(\"outline\",\"\"))\n",
    "print(\"\\n==== 正文 ====\")\n",
    "print(final_state.get(\"story\",\"\"))\n"
   ]
  },
  {
   "cell_type": "markdown",
   "id": "b04cf9dc",
   "metadata": {},
   "source": [
    "\n",
    "## 6. Inspect retrieved docs (observability)\n",
    "Helpful to confirm RAG actually used the facts.\n"
   ]
  },
  {
   "cell_type": "code",
   "execution_count": 12,
   "id": "db0f5698",
   "metadata": {},
   "outputs": [
    {
     "name": "stdout",
     "output_type": "stream",
     "text": [
      "Retrieved docs:\n",
      "[{'content': 'name: Bob\\n'\n",
      "             'traits: 外向、冲动、讲冷笑话\\n'\n",
      "             'likes_food: 烤肉、黑咖啡\\n'\n",
      "             'hobbies: 跑酷、修自行车\\n'\n",
      "             'speech: 夸张比喻、句尾常说“懂？”\\n'\n",
      "             'background: 外卖骑手\\n'\n",
      "             'taboos: 被人质疑路线感\\n',\n",
      "  'doc_id': 'Bob.traits.md',\n",
      "  'metadata': {'name': 'Bob', 'type': 'character', 'updated_at': '2025-06-10'}},\n",
      " {'content': 'name: Alice\\n'\n",
      "             'traits: 内向、强迫症、记日记\\n'\n",
      "             'likes_food: 抹茶、寿司\\n'\n",
      "             'dislikes_food: 榴莲\\n'\n",
      "             'hobbies: 观星、拼乐高\\n'\n",
      "             'speech: 轻声、短句、常用“嗯…好”\\n'\n",
      "             'background: 城市图书管理员\\n'\n",
      "             'taboos: 讨厌别人未经同意触碰她的笔记本\\n',\n",
      "  'doc_id': 'Alice.traits.md',\n",
      "  'metadata': {'name': 'Alice',\n",
      "               'type': 'character',\n",
      "               'updated_at': '2025-06-01'}},\n",
      " {'content': 'city: 雨水充沛的港口城\\n'\n",
      "             'common_places: 旧书店、码头、陡坡石阶\\n'\n",
      "             'cultural_notes: 雨夜猫会聚到码头最旧的灯塔边\\n',\n",
      "  'doc_id': 'Setting.shared.md',\n",
      "  'metadata': {'name': 'SharedWorld',\n",
      "               'type': 'setting',\n",
      "               'updated_at': '2025-05-20'}}]\n"
     ]
    }
   ],
   "source": [
    "\n",
    "from pprint import pprint\n",
    "print(\"Retrieved docs:\")\n",
    "pprint(final_state[\"retrieved_docs\"])\n"
   ]
  },
  {
   "cell_type": "code",
   "execution_count": null,
   "id": "f359d866-b2bb-47b9-8180-f89d1722ef2d",
   "metadata": {},
   "outputs": [],
   "source": []
  },
  {
   "cell_type": "markdown",
   "id": "3ed0f41d",
   "metadata": {},
   "source": [
    "\n",
    "## 7. Quick experiments\n",
    "- Remove Bob's `likes_food` from corpus and re-run to see `(推断)` behavior.\n",
    "- Add a conflicting old Bob note and a recent update (use `updated_at` in metadata) and change retriever logic to prefer recency.\n",
    "- Change the theme to involve the lighthouse; ensure the setting doc gets retrieved.\n",
    "- Try single-character stories.\n"
   ]
  }
 ],
 "metadata": {
  "kernelspec": {
   "display_name": "Python 3 (ipykernel)",
   "language": "python",
   "name": "python3"
  },
  "language_info": {
   "codemirror_mode": {
    "name": "ipython",
    "version": 3
   },
   "file_extension": ".py",
   "mimetype": "text/x-python",
   "name": "python",
   "nbconvert_exporter": "python",
   "pygments_lexer": "ipython3",
   "version": "3.13.3"
  }
 },
 "nbformat": 4,
 "nbformat_minor": 5
}
